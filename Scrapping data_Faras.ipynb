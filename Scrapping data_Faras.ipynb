{
  "cells": [
    {
      "cell_type": "code",
      "execution_count": null,
      "metadata": {
        "colab": {
          "base_uri": "https://localhost:8080/"
        },
        "id": "vVfyIqTmJXe6",
        "outputId": "f0535b0c-ac67-4f2c-910c-4fc099cada4f"
      },
      "outputs": [
        {
          "name": "stdout",
          "output_type": "stream",
          "text": [
            "Looking in indexes: https://pypi.org/simple, https://us-python.pkg.dev/colab-wheels/public/simple/\n",
            "Requirement already satisfied: newspaper3k in /usr/local/lib/python3.7/dist-packages (0.2.8)\n",
            "Requirement already satisfied: python-dateutil>=2.5.3 in /usr/local/lib/python3.7/dist-packages (from newspaper3k) (2.8.2)\n",
            "Requirement already satisfied: requests>=2.10.0 in /usr/local/lib/python3.7/dist-packages (from newspaper3k) (2.23.0)\n",
            "Requirement already satisfied: lxml>=3.6.0 in /usr/local/lib/python3.7/dist-packages (from newspaper3k) (4.2.6)\n",
            "Requirement already satisfied: nltk>=3.2.1 in /usr/local/lib/python3.7/dist-packages (from newspaper3k) (3.2.5)\n",
            "Requirement already satisfied: jieba3k>=0.35.1 in /usr/local/lib/python3.7/dist-packages (from newspaper3k) (0.35.1)\n",
            "Requirement already satisfied: beautifulsoup4>=4.4.1 in /usr/local/lib/python3.7/dist-packages (from newspaper3k) (4.6.3)\n",
            "Requirement already satisfied: tldextract>=2.0.1 in /usr/local/lib/python3.7/dist-packages (from newspaper3k) (3.3.0)\n",
            "Requirement already satisfied: feedfinder2>=0.0.4 in /usr/local/lib/python3.7/dist-packages (from newspaper3k) (0.0.4)\n",
            "Requirement already satisfied: cssselect>=0.9.2 in /usr/local/lib/python3.7/dist-packages (from newspaper3k) (1.1.0)\n",
            "Requirement already satisfied: tinysegmenter==0.3 in /usr/local/lib/python3.7/dist-packages (from newspaper3k) (0.3)\n",
            "Requirement already satisfied: Pillow>=3.3.0 in /usr/local/lib/python3.7/dist-packages (from newspaper3k) (7.1.2)\n",
            "Requirement already satisfied: feedparser>=5.2.1 in /usr/local/lib/python3.7/dist-packages (from newspaper3k) (6.0.10)\n",
            "Requirement already satisfied: PyYAML>=3.11 in /usr/local/lib/python3.7/dist-packages (from newspaper3k) (3.13)\n",
            "Requirement already satisfied: six in /usr/local/lib/python3.7/dist-packages (from feedfinder2>=0.0.4->newspaper3k) (1.15.0)\n",
            "Requirement already satisfied: sgmllib3k in /usr/local/lib/python3.7/dist-packages (from feedparser>=5.2.1->newspaper3k) (1.0.0)\n",
            "Requirement already satisfied: chardet<4,>=3.0.2 in /usr/local/lib/python3.7/dist-packages (from requests>=2.10.0->newspaper3k) (3.0.4)\n",
            "Requirement already satisfied: urllib3!=1.25.0,!=1.25.1,<1.26,>=1.21.1 in /usr/local/lib/python3.7/dist-packages (from requests>=2.10.0->newspaper3k) (1.24.3)\n",
            "Requirement already satisfied: certifi>=2017.4.17 in /usr/local/lib/python3.7/dist-packages (from requests>=2.10.0->newspaper3k) (2022.5.18.1)\n",
            "Requirement already satisfied: idna<3,>=2.5 in /usr/local/lib/python3.7/dist-packages (from requests>=2.10.0->newspaper3k) (2.10)\n",
            "Requirement already satisfied: requests-file>=1.4 in /usr/local/lib/python3.7/dist-packages (from tldextract>=2.0.1->newspaper3k) (1.5.1)\n",
            "Requirement already satisfied: filelock>=3.0.8 in /usr/local/lib/python3.7/dist-packages (from tldextract>=2.0.1->newspaper3k) (3.7.0)\n"
          ]
        }
      ],
      "source": [
        "pip install newspaper3k"
      ]
    },
    {
      "cell_type": "code",
      "execution_count": null,
      "metadata": {
        "id": "3BFbJySUJjNj"
      },
      "outputs": [],
      "source": [
        "from newspaper import Article\n",
        "import pandas as pd"
      ]
    },
    {
      "cell_type": "code",
      "execution_count": null,
      "metadata": {
        "id": "lsVqkMfqJrrL"
      },
      "outputs": [],
      "source": [
        "data_berita = pd.DataFrame(columns=['judul','penulis','tanggal','isi'])"
      ]
    },
    {
      "cell_type": "code",
      "execution_count": null,
      "metadata": {
        "colab": {
          "base_uri": "https://localhost:8080/"
        },
        "id": "wIlyP8dqJ5Jz",
        "outputId": "5dae3ac0-2c72-4711-8a0b-06032015ad79"
      },
      "outputs": [
        {
          "name": "stdout",
          "output_type": "stream",
          "text": [
            "Judul :  Fakta Terkini dan Terbaru soal Pencarian Anak Ridwan Kamil\n",
            "Penulis :  ['Tim Redaksi', 'Https', 'Www.Facebook.Com Cnbcindonesia']\n",
            "Tanggal publikasi :  2022-05-31 08:40:25\n",
            "Teks berita :  Jakarta, CNBC Indonesia - Kedutaan Besar Republik Indonesia (KBRI) di Bern telah memastikan otoritas kota dan pemerintah Swiss melakukan upaya maksimal untuk mencari Emmeril \"Eril\" Khan Mumtadz (23). Ia adalah anak Gubernur Jawa Barat Ridwan Kamil yang dilaporkan terseret di Sungai Aare sejak Kamis (26/5/2022)\n",
            "\n",
            "Duta Besar RI untuk Swiss Muliaman Hadad menjelaskan hal tersebut Minggu (29/5/2022). Tim SAR Bern yang terdiri dari polisi air, polisi medis, dan pemadam kebakaran, tegasnya, kembali melanjutkan pencarian pada Sabtu mulai pukul 08.30 waktu setempat sampai dengan jangka waktu yang diperlukan.\n",
            "\n",
            "Berbagai metode akan dikerahkan dalam proses pencarian. Setelah sebelumnya memakai drone thermal untuk mendeteksi panas tubuh manusia, kini tim SAR akan menggunakan drone konvensional untuk bermanuver serendah mungkin di atas permukaan sungai.\n",
            "\n",
            "Tim juga akan menggunakan perahu pencari dan sudah bisa mengerahkan penyelam. \"Metode pagi ini lebih intensif,\" ujar Muliaman.\n",
            "\n",
            "Menurut Muliaman, kondisi air pada saat kejadian mencapai 16 derajat celcius dan sedikit keruh karena lelehan salju. Sehingga menjadi kendala terutama untuk mengerahkan tim penyelam.\n",
            "\n",
            "\"Sungai Aare ini datangnya dari salju yang meleleh sehingga relatif dingin dan ada kristal putih sehingga agak keruh,\" ucapnya.\n",
            "\n",
            "Dari data pemerintah Kota Bern, debit air rata - rata di Sungai Aare adalah 180-230 meter kubik per detik. Informasi tersebut senantiasa dapat diakses oleh publik secara online dan real time.\n",
            "\n",
            "Sementara itu, berdasarkan catatan KBRI Bern, dalam setahun terdapat 15-20 orang yang hanyut di Sungai Aare. Tapi persentase 99,9% ditemukan.\n",
            "\n",
            "Mayoritas orang hilang dilaporkan ditemukan dalam tiga minggu. Proses pencarian oleh tim SAR dilakukan dengan tanpa batas waktu, karena pada prinsipnya, Polisi Sungai di Kota Bern bertugas berpatroli setiap hari.\n",
            "\n",
            "Hingga hari keempat, proses pencarian Eril masih terus dilakukan namun belum membuahkan hasil. Pasalnya, tingkat kekeruhan air yang bersumber dari partikel lelehan salju masih menjadi kendala utama proses pencarian.\n",
            "\n",
            "KBRI Bern sendiri telah merilis pernyataan perihal beredarnya video pencarian Eril. Dalam video dokumentasi Kementerian Luar Negeri RI terlihat hanya ada satu kapal tim pencari yang bertugas untuk mencari Eril. Hal itu berbeda dengan tim SAR Indonesia yang biasanya menerjunkan banyak kapal dalam misi pencarian.\n",
            "\n",
            "KBRI Bern menyebut video itu tidak menggambarkan seluruh proses pencarian. Mereka menyatakan ada beberapa kapal dan tim yang diterjunkan pemerintah Negeri Alpen untuk mencari Eril.\n",
            "\n",
            "\"Video ini hanya memperlihatkan kurang lebih 200-300 meter area titik awal perahu bergerak. Mohon untuk tidak menggeneralisasi video tersebut sebagai proses keseluruhan,\" ujar pihak KBRI Bern dalam sebuah pesan singkat kepada CNBC Indonesia, Senin (30/5/2022).\n",
            "\n",
            "\"Sebagai informasi, pengambilan gambar ini juga dilakukan di titik awal, di sesi pagi, yang masih boleh disaksikan oleh warga sipil. Pencarian sesi berikutnya yang lebih intens dan panjang tidak dapat diikuti/disaksikan oleh warga sipil.\"\n",
            "\n",
            "Insiden hilangnya Eril terjadi pada pukul 10.00 waktu Swiss. Saat itu Eril bersama adiknya, Zara dan temannya sedang berenang di Sungai Aare.\n",
            "\n",
            "Eril dan rombongan turun ke sungai di area yang bertangga. Juga memilih titik di mana ada lansia dan anak-anak yang berenang dengan asumsi titik tersebut tidak berbahaya.\n",
            "\n",
            "Eril diketahui tengah berada di Swiss untuk mencari sekolah dalam rangka melanjutkan jenjang pendidikan S2. Ia sebelumnya menempuh pendidikan S1 di ITB.\n"
          ]
        }
      ],
      "source": [
        "#url dari situs yang akan discrap dimasukkan ke dalam variabel alamat\n",
        "alamat = 'https://www.cnbcindonesia.com/news/20220531071855-4-343056/fakta-terkini-dan-terbaru-soal-pencarian-anak-ridwan-kamil'\n",
        "\n",
        "#inisialisasi object article dari satu alamat yang kemudian disimpan dalam variabel berita\n",
        "berita = Article(alamat)\n",
        "\n",
        "#perintah untuk memparsing artikel\n",
        "berita.download()\n",
        "berita.parse()\n",
        "\n",
        "#perintah untuk mengekstrak informasi mengekstrak informasi\n",
        "#informasi yang akan diambil adalah judul,penulis,tanggal publikasi,Teks berita\n",
        "print('Judul : ',berita.title)\n",
        "print('Penulis : ',berita.authors)\n",
        "\\\n",
        "\n",
        "\n",
        "print('Tanggal publikasi : ',berita.publish_date)\n",
        "print('Teks berita : ',berita.text)\n",
        "isi_berita=[[berita.title,berita.authors,berita.publish_date,berita.text]]\n",
        "data_berita=data_berita.append(pd.DataFrame(isi_berita,columns=['judul','penulis','tanggal','isi']),ignore_index=True)"
      ]
    },
    {
      "cell_type": "code",
      "execution_count": null,
      "metadata": {
        "id": "xf_po3CHNGF1",
        "colab": {
          "base_uri": "https://localhost:8080/",
          "height": 183
        },
        "outputId": "16bac161-c7fd-43f2-fcd9-95e998c646aa"
      },
      "outputs": [
        {
          "output_type": "error",
          "ename": "NameError",
          "evalue": "ignored",
          "traceback": [
            "\u001b[0;31m---------------------------------------------------------------------------\u001b[0m",
            "\u001b[0;31mNameError\u001b[0m                                 Traceback (most recent call last)",
            "\u001b[0;32m<ipython-input-1-076a63e63656>\u001b[0m in \u001b[0;36m<module>\u001b[0;34m()\u001b[0m\n\u001b[1;32m      1\u001b[0m \u001b[0;31m#menyimpan hasil scrapping ke dalam file csv\u001b[0m\u001b[0;34m\u001b[0m\u001b[0;34m\u001b[0m\u001b[0;34m\u001b[0m\u001b[0m\n\u001b[0;32m----> 2\u001b[0;31m \u001b[0mdata_berita\u001b[0m\u001b[0;34m.\u001b[0m\u001b[0mto_csv\u001b[0m\u001b[0;34m(\u001b[0m\u001b[0;34m'scrap_berita.csv'\u001b[0m\u001b[0;34m,\u001b[0m\u001b[0mindex\u001b[0m\u001b[0;34m=\u001b[0m\u001b[0;32mFalse\u001b[0m\u001b[0;34m)\u001b[0m\u001b[0;34m\u001b[0m\u001b[0;34m\u001b[0m\u001b[0m\n\u001b[0m",
            "\u001b[0;31mNameError\u001b[0m: name 'data_berita' is not defined"
          ]
        }
      ],
      "source": [
        "#menyimpan hasil scrapping ke dalam file csv\n",
        "data_berita.to_csv('scrap_berita.csv',index=False)"
      ]
    },
    {
      "cell_type": "code",
      "execution_count": null,
      "metadata": {
        "id": "iehutonrPAAf"
      },
      "outputs": [],
      "source": [
        "!pip3 install snscrape"
      ]
    },
    {
      "cell_type": "code",
      "execution_count": null,
      "metadata": {
        "id": "DIDe0s8hTEAi"
      },
      "outputs": [],
      "source": [
        "import snscrape.modules.twitter as sntwitter\n",
        "import pandas as pd\n",
        "\n",
        "tweets_list2 = []\n",
        "\n",
        "for i,tweet in enumerate(sntwitter.TwitterSearchScraper('bokep since:2022-01-01 until:2022-05-10').get_items()):\n",
        "    if i>1000:\n",
        "        break\n",
        "    tweets_list2.append([tweet.date, tweet.id, tweet.content, tweet.username])\n",
        "    \n",
        "tweets_df2 = pd.DataFrame(tweets_list2, columns=['Datetime', 'Tweet Id', 'Text', 'Username'])"
      ]
    },
    {
      "cell_type": "code",
      "execution_count": null,
      "metadata": {
        "colab": {
          "base_uri": "https://localhost:8080/",
          "height": 206
        },
        "id": "qfnUzVbZc8TJ",
        "outputId": "ac8f3365-236a-47c9-ddb1-e3cc61224e71"
      },
      "outputs": [
        {
          "data": {
            "text/html": [
              "\n",
              "  <div id=\"df-2c7adbac-1ec7-4a78-88d4-8776e64aa7c4\">\n",
              "    <div class=\"colab-df-container\">\n",
              "      <div>\n",
              "<style scoped>\n",
              "    .dataframe tbody tr th:only-of-type {\n",
              "        vertical-align: middle;\n",
              "    }\n",
              "\n",
              "    .dataframe tbody tr th {\n",
              "        vertical-align: top;\n",
              "    }\n",
              "\n",
              "    .dataframe thead th {\n",
              "        text-align: right;\n",
              "    }\n",
              "</style>\n",
              "<table border=\"1\" class=\"dataframe\">\n",
              "  <thead>\n",
              "    <tr style=\"text-align: right;\">\n",
              "      <th></th>\n",
              "      <th>Datetime</th>\n",
              "      <th>Tweet Id</th>\n",
              "      <th>Text</th>\n",
              "      <th>Username</th>\n",
              "    </tr>\n",
              "  </thead>\n",
              "  <tbody>\n",
              "    <tr>\n",
              "      <th>0</th>\n",
              "      <td>2022-05-09 23:55:19+00:00</td>\n",
              "      <td>1523813900604493824</td>\n",
              "      <td>Pagi2 dikirimin bokep xixi, jd seneng (?)</td>\n",
              "      <td>2lonely41</td>\n",
              "    </tr>\n",
              "    <tr>\n",
              "      <th>1</th>\n",
              "      <td>2022-05-09 23:53:57+00:00</td>\n",
              "      <td>1523813555732377600</td>\n",
              "      <td>\"nonton bokep itu nggak ngerugiin orang lain\" ...</td>\n",
              "      <td>kusumastianto</td>\n",
              "    </tr>\n",
              "    <tr>\n",
              "      <th>2</th>\n",
              "      <td>2022-05-09 23:52:54+00:00</td>\n",
              "      <td>1523813291952263168</td>\n",
              "      <td>@Faizsaifany @_inijodohmu @Vvvvvz12 Asumsi gob...</td>\n",
              "      <td>sukaburung_</td>\n",
              "    </tr>\n",
              "    <tr>\n",
              "      <th>3</th>\n",
              "      <td>2022-05-09 23:51:44+00:00</td>\n",
              "      <td>1523812998745587712</td>\n",
              "      <td>liek yg penting udh ketauan kalo mereka ngewe ...</td>\n",
              "      <td>sunsetfever_</td>\n",
              "    </tr>\n",
              "    <tr>\n",
              "      <th>4</th>\n",
              "      <td>2022-05-09 23:50:49+00:00</td>\n",
              "      <td>1523812767752679425</td>\n",
              "      <td>@panca66 @Uki23 Tukang nonton bokep</td>\n",
              "      <td>Salim09735849</td>\n",
              "    </tr>\n",
              "  </tbody>\n",
              "</table>\n",
              "</div>\n",
              "      <button class=\"colab-df-convert\" onclick=\"convertToInteractive('df-2c7adbac-1ec7-4a78-88d4-8776e64aa7c4')\"\n",
              "              title=\"Convert this dataframe to an interactive table.\"\n",
              "              style=\"display:none;\">\n",
              "        \n",
              "  <svg xmlns=\"http://www.w3.org/2000/svg\" height=\"24px\"viewBox=\"0 0 24 24\"\n",
              "       width=\"24px\">\n",
              "    <path d=\"M0 0h24v24H0V0z\" fill=\"none\"/>\n",
              "    <path d=\"M18.56 5.44l.94 2.06.94-2.06 2.06-.94-2.06-.94-.94-2.06-.94 2.06-2.06.94zm-11 1L8.5 8.5l.94-2.06 2.06-.94-2.06-.94L8.5 2.5l-.94 2.06-2.06.94zm10 10l.94 2.06.94-2.06 2.06-.94-2.06-.94-.94-2.06-.94 2.06-2.06.94z\"/><path d=\"M17.41 7.96l-1.37-1.37c-.4-.4-.92-.59-1.43-.59-.52 0-1.04.2-1.43.59L10.3 9.45l-7.72 7.72c-.78.78-.78 2.05 0 2.83L4 21.41c.39.39.9.59 1.41.59.51 0 1.02-.2 1.41-.59l7.78-7.78 2.81-2.81c.8-.78.8-2.07 0-2.86zM5.41 20L4 18.59l7.72-7.72 1.47 1.35L5.41 20z\"/>\n",
              "  </svg>\n",
              "      </button>\n",
              "      \n",
              "  <style>\n",
              "    .colab-df-container {\n",
              "      display:flex;\n",
              "      flex-wrap:wrap;\n",
              "      gap: 12px;\n",
              "    }\n",
              "\n",
              "    .colab-df-convert {\n",
              "      background-color: #E8F0FE;\n",
              "      border: none;\n",
              "      border-radius: 50%;\n",
              "      cursor: pointer;\n",
              "      display: none;\n",
              "      fill: #1967D2;\n",
              "      height: 32px;\n",
              "      padding: 0 0 0 0;\n",
              "      width: 32px;\n",
              "    }\n",
              "\n",
              "    .colab-df-convert:hover {\n",
              "      background-color: #E2EBFA;\n",
              "      box-shadow: 0px 1px 2px rgba(60, 64, 67, 0.3), 0px 1px 3px 1px rgba(60, 64, 67, 0.15);\n",
              "      fill: #174EA6;\n",
              "    }\n",
              "\n",
              "    [theme=dark] .colab-df-convert {\n",
              "      background-color: #3B4455;\n",
              "      fill: #D2E3FC;\n",
              "    }\n",
              "\n",
              "    [theme=dark] .colab-df-convert:hover {\n",
              "      background-color: #434B5C;\n",
              "      box-shadow: 0px 1px 3px 1px rgba(0, 0, 0, 0.15);\n",
              "      filter: drop-shadow(0px 1px 2px rgba(0, 0, 0, 0.3));\n",
              "      fill: #FFFFFF;\n",
              "    }\n",
              "  </style>\n",
              "\n",
              "      <script>\n",
              "        const buttonEl =\n",
              "          document.querySelector('#df-2c7adbac-1ec7-4a78-88d4-8776e64aa7c4 button.colab-df-convert');\n",
              "        buttonEl.style.display =\n",
              "          google.colab.kernel.accessAllowed ? 'block' : 'none';\n",
              "\n",
              "        async function convertToInteractive(key) {\n",
              "          const element = document.querySelector('#df-2c7adbac-1ec7-4a78-88d4-8776e64aa7c4');\n",
              "          const dataTable =\n",
              "            await google.colab.kernel.invokeFunction('convertToInteractive',\n",
              "                                                     [key], {});\n",
              "          if (!dataTable) return;\n",
              "\n",
              "          const docLinkHtml = 'Like what you see? Visit the ' +\n",
              "            '<a target=\"_blank\" href=https://colab.research.google.com/notebooks/data_table.ipynb>data table notebook</a>'\n",
              "            + ' to learn more about interactive tables.';\n",
              "          element.innerHTML = '';\n",
              "          dataTable['output_type'] = 'display_data';\n",
              "          await google.colab.output.renderOutput(dataTable, element);\n",
              "          const docLink = document.createElement('div');\n",
              "          docLink.innerHTML = docLinkHtml;\n",
              "          element.appendChild(docLink);\n",
              "        }\n",
              "      </script>\n",
              "    </div>\n",
              "  </div>\n",
              "  "
            ],
            "text/plain": [
              "                   Datetime             Tweet Id  \\\n",
              "0 2022-05-09 23:55:19+00:00  1523813900604493824   \n",
              "1 2022-05-09 23:53:57+00:00  1523813555732377600   \n",
              "2 2022-05-09 23:52:54+00:00  1523813291952263168   \n",
              "3 2022-05-09 23:51:44+00:00  1523812998745587712   \n",
              "4 2022-05-09 23:50:49+00:00  1523812767752679425   \n",
              "\n",
              "                                                Text       Username  \n",
              "0          Pagi2 dikirimin bokep xixi, jd seneng (?)      2lonely41  \n",
              "1  \"nonton bokep itu nggak ngerugiin orang lain\" ...  kusumastianto  \n",
              "2  @Faizsaifany @_inijodohmu @Vvvvvz12 Asumsi gob...    sukaburung_  \n",
              "3  liek yg penting udh ketauan kalo mereka ngewe ...   sunsetfever_  \n",
              "4                @panca66 @Uki23 Tukang nonton bokep  Salim09735849  "
            ]
          },
          "execution_count": 4,
          "metadata": {},
          "output_type": "execute_result"
        }
      ],
      "source": [
        "tweets_df2.head()"
      ]
    }
  ],
  "metadata": {
    "colab": {
      "name": "MODUL 9.ipynb",
      "provenance": [],
      "collapsed_sections": []
    },
    "kernelspec": {
      "display_name": "Python 3",
      "name": "python3"
    },
    "language_info": {
      "name": "python"
    }
  },
  "nbformat": 4,
  "nbformat_minor": 0
}